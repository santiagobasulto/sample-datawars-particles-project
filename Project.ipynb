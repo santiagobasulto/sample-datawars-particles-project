{
 "cells": [
  {
   "cell_type": "code",
   "execution_count": null,
   "id": "f447e61f-4e0e-4745-a63c-a0ab7923ed6b",
   "metadata": {},
   "outputs": [],
   "source": [
    "import math\n",
    "import random\n",
    "import numpy as np\n",
    "import pandas as pd\n",
    "\n",
    "import matplotlib.pyplot as plt"
   ]
  },
  {
   "cell_type": "markdown",
   "id": "2b3f5978-e381-419a-8ec0-2c5766eb386f",
   "metadata": {},
   "source": [
    "<img src=\"./images/cover.png\" width=\"300px\">\n",
    "\n",
    "# Particle Positions and Spatial Analysis with Python and Pandas\n",
    "\n",
    "In this project, your job will be to implement a particle generator for a physics simulation experiment in a two-dimensional space. Each particle has an associated position (X, Y coordinates) and radius.\n",
    "\n",
    "Your tasks will be to first write a generator of these random particles, and then analyze the data given different surfaces, displaying the particles that are within the given area.\n",
    "\n",
    "This is a very common topic in physics and game design. It'll combine multiple interesting concepts, like (pseud) random number generation, plotting, and spatial analysis.\n",
    "\n",
    "Let's get started!"
   ]
  },
  {
   "cell_type": "markdown",
   "id": "3139fb22-8223-4ae0-8571-4d12a4b8d810",
   "metadata": {},
   "source": [
    "### Section 1: Generating the data\n",
    "\n",
    "The first part of the project requires you to create a data-generation tool to randomly generate the particles for our experiment. Each particle will have three randomly generated values:\n",
    "\n",
    "* `x`: its position in the x-plane, can be between 0 and `MAX_X_POSITION`\n",
    "* `y`: its position in the y-plane, can be between 0 and `MAX_Y_POSITION`\n",
    "* `r`: its radius, between 0 and `MAX_PARTICLE_RADIUS`\n",
    "\n",
    "For this, we'll use the `random` module from Python.\n",
    "\n",
    "In order to validate that your solution is working right, we must \"trick\" the `random` module to always generate the same number. That is done with a given \"seed\". Check the following example. You can execute the following cell as many times as you want that it'll always generate the same value (not so much for randomness right?):"
   ]
  },
  {
   "cell_type": "code",
   "execution_count": null,
   "id": "5f41894e-6803-4d11-a350-8adb0b333714",
   "metadata": {},
   "outputs": [],
   "source": [
    "random.seed(10)\n",
    "random.random()"
   ]
  },
  {
   "cell_type": "code",
   "execution_count": null,
   "id": "17f3bec5-796a-4a98-9f86-afd3d49b6a97",
   "metadata": {},
   "outputs": [],
   "source": [
    "MAX_X_POSITION = 700\n",
    "MAX_Y_POSITION = 500\n",
    "MAX_PARTICLE_RADIUS = 5"
   ]
  },
  {
   "cell_type": "markdown",
   "id": "12700b56-44a2-4d41-9891-ee110a36dbdc",
   "metadata": {},
   "source": [
    "##### Activity 1: Write a function that generates a random particle\n",
    "\n",
    "Write the function `generate_particle` that generates a particle according to the previous definition. The function accepts three parameters `max_x`, `max_y`, `max_r` which by default take the constants above and returns a tuple with `(x, y, r)`"
   ]
  },
  {
   "cell_type": "code",
   "execution_count": null,
   "id": "c7ba5fb7-e7ac-4740-8e49-a309bd692dc6",
   "metadata": {},
   "outputs": [],
   "source": [
    "def generate_particle(max_x=MAX_X_POSITION, max_y=MAX_Y_POSITION, max_r=MAX_PARTICLE_RADIUS):\n",
    "    pass"
   ]
  },
  {
   "cell_type": "markdown",
   "id": "8c909cbd-601d-4fb5-a73d-fd8b5c785b1b",
   "metadata": {},
   "source": [
    "Examples:"
   ]
  },
  {
   "cell_type": "code",
   "execution_count": null,
   "id": "068b79f6-2e8e-47a7-a27f-7da762c21f05",
   "metadata": {},
   "outputs": [],
   "source": [
    "generate_particle()"
   ]
  },
  {
   "cell_type": "code",
   "execution_count": null,
   "id": "c61baaa6-6ff5-4d9d-a596-be86ccf075ac",
   "metadata": {},
   "outputs": [],
   "source": [
    "generate_particle(10, 10, 1)"
   ]
  },
  {
   "cell_type": "markdown",
   "id": "ec3e3f99-0850-46b9-a585-8bdfde2bdd70",
   "metadata": {},
   "source": [
    "##### Activity 2: Generate 1,000 random particles using `random.seed(10)`\n",
    "\n",
    "Generate **a list** of 1,000 random particles with the default values for `max_x`, `max_y` and `max_r`, and store them in the `particles` variable.\n",
    "\n",
    "**IMPORTANT:** We'll validate your program by comparing it with the expected result of the same generation with `random.seed(10)`, so make sure you're using setting the correct seed before generating the particles"
   ]
  },
  {
   "cell_type": "code",
   "execution_count": null,
   "id": "52f8a6e5-cc35-4ae1-860d-04ceb26cc593",
   "metadata": {},
   "outputs": [],
   "source": [
    "random.seed(10)\n",
    "particles = ... # a list"
   ]
  },
  {
   "cell_type": "markdown",
   "id": "4ade3968-2a8f-4efe-95a3-faa819f21bdd",
   "metadata": {},
   "source": [
    "##### Activity 3: Store your particles in a CSV file\n",
    "\n",
    "Store the data from `particles` in a CSV file named `particles.csv`, with the header `x,y,r`. You can use any method, including Pandas, manual CSV handling, etc."
   ]
  },
  {
   "cell_type": "code",
   "execution_count": null,
   "id": "73842a49-43cc-4b00-a212-36928c2be88b",
   "metadata": {},
   "outputs": [],
   "source": [
    "# store your particles in `particles.csv`"
   ]
  },
  {
   "cell_type": "markdown",
   "id": "26c35628-54cb-46b7-b7b9-a2ebe2982239",
   "metadata": {},
   "source": [
    "Here you can see the first rows of the expected `particles.csv`:"
   ]
  },
  {
   "cell_type": "code",
   "execution_count": null,
   "id": "283450b9-b28f-4629-b646-5ef661744833",
   "metadata": {},
   "outputs": [],
   "source": [
    "!head particles.csv"
   ]
  },
  {
   "cell_type": "markdown",
   "id": "6fb9aaab-8874-45ee-9aaf-7839d783a8b1",
   "metadata": {},
   "source": [
    "##### Activity 4: Plot your particles in a matplotlib plane\n",
    "\n",
    "Plot your particles in a dot-plot, each particle centered in `x`, `y` and with a marker size of `r`. It should look something like this:\n",
    "\n",
    "<img src=\"images/plot-sample.png\" width=\"900px\">"
   ]
  },
  {
   "cell_type": "code",
   "execution_count": null,
   "id": "7affc818-af6f-4568-bb39-f2951b958f3a",
   "metadata": {},
   "outputs": [],
   "source": [
    "fig, ax = plt.subplots(figsize=(14, 7))\n",
    "\n",
    "# your code here..."
   ]
  },
  {
   "cell_type": "markdown",
   "id": "2e319cbb-72ac-4ac6-95ef-45bb427f616b",
   "metadata": {},
   "source": [
    "### Section 2: Spatial analysis\n",
    "\n",
    "In this section we'll focus on analyzing if a given particle is contained within a given circular area in the plane. In particular, we want to know if a particle `p` is outside of the area, partially contained, or completely contained within the area `A`. For example, the following image depicts the circular area A (big green circle) and three particles. `p1` is outside of the area, `p2` is completely contained in the area, while `p3` is only partially contained.\n",
    "\n",
    "<img src=\"images/sample-contained-particles.png\" width=\"900px\">"
   ]
  },
  {
   "cell_type": "markdown",
   "id": "46eb32c8-73c9-4d9b-88e1-3b336b2421da",
   "metadata": {},
   "source": [
    "##### Activity 5: Write the function `calculate_particle_position`"
   ]
  },
  {
   "cell_type": "markdown",
   "id": "2ee3c79a-39d0-41fc-a566-05881ba0fbf3",
   "metadata": {},
   "source": [
    "The function `calculate_particle_position` receives two tuples, with the particle's and area's `x, y, r` parameters and it should return the position of the particle (either completely contained, partially contained, or outside) in the form of an `Enum` as its defined below:"
   ]
  },
  {
   "cell_type": "code",
   "execution_count": null,
   "id": "81cff706-1190-4dfc-9e4e-6bf3fddb77de",
   "metadata": {},
   "outputs": [],
   "source": [
    "from enum import Enum\n",
    "\n",
    "class ParticlePosition(Enum):\n",
    "    PARTIALLY_CONTAINED = 1\n",
    "    COMPLETELY_CONTAINED = 2\n",
    "    OUTSIDE = 3"
   ]
  },
  {
   "cell_type": "code",
   "execution_count": null,
   "id": "25515ac9-6c9e-4393-bb94-74ba39d11e18",
   "metadata": {},
   "outputs": [],
   "source": [
    "def calculate_particle_position(p, A):\n",
    "    px, py, pr = p\n",
    "    ax, ay, ar = A\n",
    "    \n",
    "    # your code here\n",
    "    return ParticlePosition.COMPLETELY_CONTAINED"
   ]
  },
  {
   "cell_type": "markdown",
   "id": "5fd47784-99c1-404b-9570-ce6cf319e38f",
   "metadata": {},
   "source": [
    "If you want to test your solution, your function should work in the following cases:"
   ]
  },
  {
   "cell_type": "code",
   "execution_count": null,
   "id": "6d169061-ff23-441d-aad6-714400591f50",
   "metadata": {},
   "outputs": [],
   "source": [
    "# Should return: ParticlePosition.COMPLETELY_CONTAINED\n",
    "calculate_particle_position((4,5,1), (6, 5, 3))"
   ]
  },
  {
   "cell_type": "code",
   "execution_count": null,
   "id": "a9558f8a-3aa9-4838-9b52-d2b2bdda3000",
   "metadata": {},
   "outputs": [],
   "source": [
    "# Should return: ParticlePosition.PARTIALLY_CONTAINED\n",
    "calculate_particle_position((8,5,2), (6, 5, 3))"
   ]
  },
  {
   "cell_type": "code",
   "execution_count": null,
   "id": "a4026c34-8f7e-4607-874a-ee5ae0c4ba70",
   "metadata": {},
   "outputs": [],
   "source": [
    "# Should return: ParticlePosition.OUTSIDE\n",
    "calculate_particle_position((1,1,2), (6, 5, 3))"
   ]
  },
  {
   "cell_type": "markdown",
   "id": "49583ebd-2c16-412a-891d-ee9a8669ee73",
   "metadata": {},
   "source": [
    "And you can visualize the above examples with matplotlib using:"
   ]
  },
  {
   "cell_type": "code",
   "execution_count": null,
   "id": "a57cbe92-4ec4-439f-9f9b-02a5d3763f46",
   "metadata": {},
   "outputs": [],
   "source": [
    "fig, ax = plt.subplots(figsize=(5, 5))\n",
    "\n",
    "area = plt.Circle((6, 5), 3, color='r', fill=False, label='Area')\n",
    "partial = plt.Circle((8, 5), 2, color='purple', fill=False, label='Partially')\n",
    "fully = plt.Circle((4, 5), 1, color='blue', fill=False, label='Fully')\n",
    "outside = plt.Circle((1, 1), 1, color='black', fill=False, label='Outside')\n",
    "\n",
    "ax.add_patch(area)\n",
    "ax.add_patch(partial)\n",
    "ax.add_patch(fully)\n",
    "ax.add_patch(outside)\n",
    "\n",
    "ax.set_xlim((0, 10))\n",
    "ax.set_ylim((0, 10))\n",
    "\n",
    "ax.legend(loc='best')"
   ]
  },
  {
   "cell_type": "markdown",
   "id": "cec74fab-1c50-46c6-85f7-bbfcf7c6c30d",
   "metadata": {},
   "source": [
    "##### Activity 6: Plot the particles according to their position\n",
    "\n",
    "Read the particles from `particles.csv` and plot them using special colors depending if the particle is fully contained, partially contained or not contained at all in the area `(325, 225, 50)`\n",
    "\n",
    "If the particle is fully contained, it should be colored `green`, if it's partially contained, it should be colored `red`, while if it's outside, it should be black."
   ]
  },
  {
   "cell_type": "code",
   "execution_count": null,
   "id": "8b73158f-d08e-4450-8374-7dec9480e4a9",
   "metadata": {},
   "outputs": [],
   "source": [
    "A = (325, 225, 50)\n",
    "\n",
    "ax, ay, ar = A\n",
    "fig, axis = plt.subplots(figsize=(10, 10))\n",
    "\n",
    "area = plt.Circle((ax, ay), ar, color='r', fill=False, label='Area')\n",
    "axis.add_patch(area)\n",
    "\n",
    "# Plot your particles here\n",
    "# ...\n",
    "\n",
    "axis.set_xlim((0, 710))\n",
    "axis.set_ylim((0, 510))"
   ]
  }
 ],
 "metadata": {
  "kernelspec": {
   "display_name": "Python 3 (ipykernel)",
   "language": "python",
   "name": "python3"
  },
  "language_info": {
   "codemirror_mode": {
    "name": "ipython",
    "version": 3
   },
   "file_extension": ".py",
   "mimetype": "text/x-python",
   "name": "python",
   "nbconvert_exporter": "python",
   "pygments_lexer": "ipython3",
   "version": "3.11.4"
  }
 },
 "nbformat": 4,
 "nbformat_minor": 5
}
